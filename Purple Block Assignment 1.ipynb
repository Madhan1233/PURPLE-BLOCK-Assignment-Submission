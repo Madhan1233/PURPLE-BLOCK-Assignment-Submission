{
 "cells": [
  {
   "cell_type": "markdown",
   "id": "00530da6-0c7c-49dc-a981-5ad50428f408",
   "metadata": {},
   "source": [
    "##### if this a list of prices [5,2,1,6,9,7] and you have to create a function which will give me the best buy price and the best sell prices (1 and 9) to maximise my profit "
   ]
  },
  {
   "cell_type": "code",
   "execution_count": 12,
   "id": "fe73b5a7-88e8-4d68-baba-ac54341530d6",
   "metadata": {},
   "outputs": [
    {
     "name": "stdout",
     "output_type": "stream",
     "text": [
      "Best Buy Price: 1, Best Sell Price: 9\n"
     ]
    }
   ],
   "source": [
    "def max_profit(prices):\n",
    "    if not prices or len(prices) < 2:\n",
    "        return None, None \n",
    "    \n",
    "    min_index = prices.index(min(prices))\n",
    "    max_index = prices.index(max(prices[min_index:]))\n",
    "    \n",
    "    return prices[min_index], prices[max_index]\n",
    "\n",
    "prices = [5, 2, 1, 6, 9, 7]\n",
    "buy, sell = max_profit(prices)\n",
    "print(f\"Best Buy Price: {buy}, Best Sell Price: {sell}\")\n"
   ]
  }
 ],
 "metadata": {
  "kernelspec": {
   "display_name": "Python 3 (ipykernel)",
   "language": "python",
   "name": "python3"
  },
  "language_info": {
   "codemirror_mode": {
    "name": "ipython",
    "version": 3
   },
   "file_extension": ".py",
   "mimetype": "text/x-python",
   "name": "python",
   "nbconvert_exporter": "python",
   "pygments_lexer": "ipython3",
   "version": "3.12.4"
  }
 },
 "nbformat": 4,
 "nbformat_minor": 5
}
